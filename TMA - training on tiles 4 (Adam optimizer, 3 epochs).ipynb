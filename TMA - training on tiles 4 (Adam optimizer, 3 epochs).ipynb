{
 "cells": [
  {
   "cell_type": "markdown",
   "metadata": {},
   "source": [
    "# TMA classification based on TMA Tile predictions\n",
    "\n",
    "#### This is continuation of notebook `'TMA - dividing images into tiles.ipynb'`\n",
    "\n",
    "Here I basically take *tile+label* pairs from `'/root/ubc_ocean/anar/TMA Tiles/tiles.csv'` and group them according to original images, then separate into train-val-test sets (15-5-5). After that I train a model using ResNet18 to classify tiles:\n",
    "\n",
    "* I get 47% accuracy on 549 images (186 correctly classified).\n",
    "\n",
    "Then I link those predictions back to original 5 TMA images in test set and get majority votings over tiles:\n",
    "\n",
    "* I get 60% accuracy on 5 images (3 correctly classified)."
   ]
  },
  {
   "cell_type": "markdown",
   "metadata": {},
   "source": [
    "# Libraries"
   ]
  },
  {
   "cell_type": "code",
   "execution_count": 1,
   "metadata": {},
   "outputs": [],
   "source": [
    "import torch\n",
    "import torch.nn as nn\n",
    "import torch.optim as optim\n",
    "import torchvision.transforms as transforms\n",
    "from torchvision import models\n",
    "from torch.utils.data import DataLoader, Dataset\n",
    "from torchvision import transforms\n",
    "from torch.optim.lr_scheduler import ReduceLROnPlateau\n",
    "\n",
    "from sklearn.model_selection import GroupShuffleSplit\n",
    "from sklearn.metrics import classification_report\n",
    "\n",
    "import numpy as np\n",
    "import matplotlib.pyplot as plt\n",
    "import os\n",
    "from PIL import Image\n",
    "import pandas as pd"
   ]
  },
  {
   "cell_type": "markdown",
   "metadata": {},
   "source": [
    "# Dataset Loading"
   ]
  },
  {
   "cell_type": "code",
   "execution_count": 2,
   "metadata": {},
   "outputs": [],
   "source": [
    "label_map = {'HGSC': 0, 'LGSC': 1, 'EC': 2, 'CC': 3, 'MC': 4}\n",
    "\n",
    "class TiledImagesDataset(Dataset):\n",
    "    def __init__(self, annotations_df, root_dir, transform=None):\n",
    "        self.annotations = annotations_df\n",
    "        self.root_dir = root_dir\n",
    "        self.transform = transform\n",
    "        self.label_map = label_map\n",
    "\n",
    "    def __len__(self):\n",
    "        return len(self.annotations)\n",
    "\n",
    "    def __getitem__(self, idx):\n",
    "        img_name = os.path.join(self.root_dir, self.annotations.iloc[idx, 0])\n",
    "        image = Image.open(img_name)\n",
    "        label_str = self.annotations.iloc[idx, 1]\n",
    "        label = self.label_map.get(label_str, label_str)\n",
    "        # Corrected line for accessing 'original_image_id'\n",
    "        original_image_id = self.annotations.iloc[idx]['original_image_id']\n",
    "\n",
    "        if self.transform:\n",
    "            image = self.transform(image)\n",
    "\n",
    "        return image, label, original_image_id"
   ]
  },
  {
   "cell_type": "markdown",
   "metadata": {},
   "source": [
    "### Amount of tiles per original TMA image"
   ]
  },
  {
   "cell_type": "code",
   "execution_count": 4,
   "metadata": {},
   "outputs": [
    {
     "name": "stdout",
     "output_type": "stream",
     "text": [
      "label               CC   EC  HGSC  LGSC   MC\n",
      "original_image_id                           \n",
      "13568                0    0     0   109    0\n",
      "17637                0    0   101     0    0\n",
      "21020                0    0     0     0   98\n",
      "29084                0    0     0   104    0\n",
      "31594                0   71     0     0    0\n",
      "35565                0    0     0     0   91\n",
      "36302              165    0     0     0    0\n",
      "36583                0    0     0   140    0\n",
      "36783                0    0     0     0   45\n",
      "37385                0    0     0    70    0\n",
      "40864                0    0     0   124    0\n",
      "4134                 0    0     0     0  104\n",
      "41368                0  161     0     0    0\n",
      "41586               93    0     0     0    0\n",
      "42857              133    0     0     0    0\n",
      "44603              137    0     0     0    0\n",
      "47035                0   84     0     0    0\n",
      "48734                0  117     0     0    0\n",
      "50932                0    0   100     0    0\n",
      "53655                0  114     0     0    0\n",
      "57696              101    0     0     0    0\n",
      "61797                0    0   137     0    0\n",
      "8280                 0    0   117     0    0\n",
      "91                   0    0   216     0    0\n",
      "9200                 0    0     0     0   60\n"
     ]
    }
   ],
   "source": [
    "# Load the annotations from your CSV file\n",
    "annotations = pd.read_csv('/root/ubc_ocean/anar/TMA Tiles/tiles.csv')\n",
    "\n",
    "# Extract the original image ID from the file names\n",
    "annotations['original_image_id'] = annotations['image_id'].apply(lambda x: x.split('_')[0])\n",
    "\n",
    "# Group by 'original_image_id' and get class distribution within each group\n",
    "group_class_distribution = annotations.groupby(['original_image_id', 'label']).size().unstack(fill_value=0)\n",
    "print(group_class_distribution)"
   ]
  },
  {
   "cell_type": "markdown",
   "metadata": {},
   "source": [
    "# Data Preprocessing and Augmentation"
   ]
  },
  {
   "cell_type": "code",
   "execution_count": 5,
   "metadata": {},
   "outputs": [],
   "source": [
    "# Manual group selection based on class representation\n",
    "val_groups = ['36302', '31594', '17637', '13568', '21020']  # Validation groups\n",
    "test_groups = ['41586', '41368', '50932', '29084', '35565']  # Test groups\n",
    "\n",
    "# Apply group selections to create dataset splits\n",
    "val_mask = annotations['image_id'].apply(lambda x: x.split('_')[0]).isin(val_groups)\n",
    "test_mask = annotations['image_id'].apply(lambda x: x.split('_')[0]).isin(test_groups)\n",
    "train_mask = ~(val_mask | test_mask)  # Training data is everything not in validation or test\n",
    "\n",
    "train_annotations = annotations[train_mask]\n",
    "val_annotations = annotations[val_mask]\n",
    "test_annotations = annotations[test_mask]\n",
    "\n",
    "# Define transformations\n",
    "transform = transforms.Compose([\n",
    "    transforms.RandomHorizontalFlip(),\n",
    "    transforms.RandomRotation(10),\n",
    "    transforms.RandomResizedCrop(224, scale=(0.8, 1.0)),\n",
    "    transforms.ColorJitter(brightness=0.2, contrast=0.2, saturation=0.2, hue=0.1),\n",
    "    transforms.ToTensor(),\n",
    "    transforms.Normalize(mean=[0.485, 0.456, 0.406], std=[0.229, 0.224, 0.225]),\n",
    "])\n",
    "\n",
    "# Initialize datasets with the corresponding annotations and transform\n",
    "train_dataset = TiledImagesDataset(annotations_df=train_annotations, root_dir='/root/ubc_ocean/anar/TMA Tiles', transform=transform)\n",
    "val_dataset = TiledImagesDataset(annotations_df=val_annotations, root_dir='/root/ubc_ocean/anar/TMA Tiles', transform=transform)\n",
    "test_dataset = TiledImagesDataset(annotations_df=test_annotations, root_dir='/root/ubc_ocean/anar/TMA Tiles', transform=transform)\n",
    "\n",
    "# Initialize DataLoader for each dataset\n",
    "train_loader = DataLoader(train_dataset, batch_size=32, shuffle=True)\n",
    "val_loader = DataLoader(val_dataset, batch_size=32, shuffle=False)\n",
    "test_loader = DataLoader(test_dataset, batch_size=32, shuffle=False)"
   ]
  },
  {
   "cell_type": "markdown",
   "metadata": {},
   "source": [
    "# Model Training"
   ]
  },
  {
   "cell_type": "code",
   "execution_count": 6,
   "metadata": {},
   "outputs": [
    {
     "name": "stderr",
     "output_type": "stream",
     "text": [
      "/root/envs/myenv/lib/python3.8/site-packages/torch/cuda/__init__.py:141: UserWarning: CUDA initialization: Unexpected error from cudaGetDeviceCount(). Did you run some cuda functions before calling NumCudaDevices() that might have already set an error? Error 804: forward compatibility was attempted on non supported HW (Triggered internally at ../c10/cuda/CUDAFunctions.cpp:108.)\n",
      "  return torch._C._cuda_getDeviceCount() > 0\n"
     ]
    },
    {
     "data": {
      "text/plain": [
       "ResNetWithDropout(\n",
       "  (features): Sequential(\n",
       "    (0): Conv2d(3, 64, kernel_size=(7, 7), stride=(2, 2), padding=(3, 3), bias=False)\n",
       "    (1): BatchNorm2d(64, eps=1e-05, momentum=0.1, affine=True, track_running_stats=True)\n",
       "    (2): ReLU(inplace=True)\n",
       "    (3): MaxPool2d(kernel_size=3, stride=2, padding=1, dilation=1, ceil_mode=False)\n",
       "    (4): Sequential(\n",
       "      (0): BasicBlock(\n",
       "        (conv1): Conv2d(64, 64, kernel_size=(3, 3), stride=(1, 1), padding=(1, 1), bias=False)\n",
       "        (bn1): BatchNorm2d(64, eps=1e-05, momentum=0.1, affine=True, track_running_stats=True)\n",
       "        (relu): ReLU(inplace=True)\n",
       "        (conv2): Conv2d(64, 64, kernel_size=(3, 3), stride=(1, 1), padding=(1, 1), bias=False)\n",
       "        (bn2): BatchNorm2d(64, eps=1e-05, momentum=0.1, affine=True, track_running_stats=True)\n",
       "      )\n",
       "      (1): BasicBlock(\n",
       "        (conv1): Conv2d(64, 64, kernel_size=(3, 3), stride=(1, 1), padding=(1, 1), bias=False)\n",
       "        (bn1): BatchNorm2d(64, eps=1e-05, momentum=0.1, affine=True, track_running_stats=True)\n",
       "        (relu): ReLU(inplace=True)\n",
       "        (conv2): Conv2d(64, 64, kernel_size=(3, 3), stride=(1, 1), padding=(1, 1), bias=False)\n",
       "        (bn2): BatchNorm2d(64, eps=1e-05, momentum=0.1, affine=True, track_running_stats=True)\n",
       "      )\n",
       "    )\n",
       "    (5): Sequential(\n",
       "      (0): BasicBlock(\n",
       "        (conv1): Conv2d(64, 128, kernel_size=(3, 3), stride=(2, 2), padding=(1, 1), bias=False)\n",
       "        (bn1): BatchNorm2d(128, eps=1e-05, momentum=0.1, affine=True, track_running_stats=True)\n",
       "        (relu): ReLU(inplace=True)\n",
       "        (conv2): Conv2d(128, 128, kernel_size=(3, 3), stride=(1, 1), padding=(1, 1), bias=False)\n",
       "        (bn2): BatchNorm2d(128, eps=1e-05, momentum=0.1, affine=True, track_running_stats=True)\n",
       "        (downsample): Sequential(\n",
       "          (0): Conv2d(64, 128, kernel_size=(1, 1), stride=(2, 2), bias=False)\n",
       "          (1): BatchNorm2d(128, eps=1e-05, momentum=0.1, affine=True, track_running_stats=True)\n",
       "        )\n",
       "      )\n",
       "      (1): BasicBlock(\n",
       "        (conv1): Conv2d(128, 128, kernel_size=(3, 3), stride=(1, 1), padding=(1, 1), bias=False)\n",
       "        (bn1): BatchNorm2d(128, eps=1e-05, momentum=0.1, affine=True, track_running_stats=True)\n",
       "        (relu): ReLU(inplace=True)\n",
       "        (conv2): Conv2d(128, 128, kernel_size=(3, 3), stride=(1, 1), padding=(1, 1), bias=False)\n",
       "        (bn2): BatchNorm2d(128, eps=1e-05, momentum=0.1, affine=True, track_running_stats=True)\n",
       "      )\n",
       "    )\n",
       "    (6): Sequential(\n",
       "      (0): BasicBlock(\n",
       "        (conv1): Conv2d(128, 256, kernel_size=(3, 3), stride=(2, 2), padding=(1, 1), bias=False)\n",
       "        (bn1): BatchNorm2d(256, eps=1e-05, momentum=0.1, affine=True, track_running_stats=True)\n",
       "        (relu): ReLU(inplace=True)\n",
       "        (conv2): Conv2d(256, 256, kernel_size=(3, 3), stride=(1, 1), padding=(1, 1), bias=False)\n",
       "        (bn2): BatchNorm2d(256, eps=1e-05, momentum=0.1, affine=True, track_running_stats=True)\n",
       "        (downsample): Sequential(\n",
       "          (0): Conv2d(128, 256, kernel_size=(1, 1), stride=(2, 2), bias=False)\n",
       "          (1): BatchNorm2d(256, eps=1e-05, momentum=0.1, affine=True, track_running_stats=True)\n",
       "        )\n",
       "      )\n",
       "      (1): BasicBlock(\n",
       "        (conv1): Conv2d(256, 256, kernel_size=(3, 3), stride=(1, 1), padding=(1, 1), bias=False)\n",
       "        (bn1): BatchNorm2d(256, eps=1e-05, momentum=0.1, affine=True, track_running_stats=True)\n",
       "        (relu): ReLU(inplace=True)\n",
       "        (conv2): Conv2d(256, 256, kernel_size=(3, 3), stride=(1, 1), padding=(1, 1), bias=False)\n",
       "        (bn2): BatchNorm2d(256, eps=1e-05, momentum=0.1, affine=True, track_running_stats=True)\n",
       "      )\n",
       "    )\n",
       "    (7): Sequential(\n",
       "      (0): BasicBlock(\n",
       "        (conv1): Conv2d(256, 512, kernel_size=(3, 3), stride=(2, 2), padding=(1, 1), bias=False)\n",
       "        (bn1): BatchNorm2d(512, eps=1e-05, momentum=0.1, affine=True, track_running_stats=True)\n",
       "        (relu): ReLU(inplace=True)\n",
       "        (conv2): Conv2d(512, 512, kernel_size=(3, 3), stride=(1, 1), padding=(1, 1), bias=False)\n",
       "        (bn2): BatchNorm2d(512, eps=1e-05, momentum=0.1, affine=True, track_running_stats=True)\n",
       "        (downsample): Sequential(\n",
       "          (0): Conv2d(256, 512, kernel_size=(1, 1), stride=(2, 2), bias=False)\n",
       "          (1): BatchNorm2d(512, eps=1e-05, momentum=0.1, affine=True, track_running_stats=True)\n",
       "        )\n",
       "      )\n",
       "      (1): BasicBlock(\n",
       "        (conv1): Conv2d(512, 512, kernel_size=(3, 3), stride=(1, 1), padding=(1, 1), bias=False)\n",
       "        (bn1): BatchNorm2d(512, eps=1e-05, momentum=0.1, affine=True, track_running_stats=True)\n",
       "        (relu): ReLU(inplace=True)\n",
       "        (conv2): Conv2d(512, 512, kernel_size=(3, 3), stride=(1, 1), padding=(1, 1), bias=False)\n",
       "        (bn2): BatchNorm2d(512, eps=1e-05, momentum=0.1, affine=True, track_running_stats=True)\n",
       "      )\n",
       "    )\n",
       "    (8): AdaptiveAvgPool2d(output_size=(1, 1))\n",
       "  )\n",
       "  (dropout): Dropout(p=0.5, inplace=False)\n",
       "  (fc): Linear(in_features=512, out_features=5, bias=True)\n",
       ")"
      ]
     },
     "execution_count": 6,
     "metadata": {},
     "output_type": "execute_result"
    }
   ],
   "source": [
    "num_classes = 5\n",
    "\n",
    "# Load the pre-trained ResNet-18 model\n",
    "model = models.resnet18(pretrained=True)\n",
    "\n",
    "# Number of features in the input of the final layer\n",
    "num_ftrs = model.fc.in_features\n",
    "\n",
    "# Redefine the final layer to include dropout\n",
    "class ResNetWithDropout(nn.Module):\n",
    "    def __init__(self, original_model, num_ftrs, num_classes):\n",
    "        super(ResNetWithDropout, self).__init__()\n",
    "        self.features = nn.Sequential(*list(original_model.children())[:-1])  # Copy all layers except the last one\n",
    "        self.dropout = nn.Dropout(0.5)  # Dropout layer\n",
    "        self.fc = nn.Linear(num_ftrs, num_classes)  # Final classification layer\n",
    "\n",
    "    def forward(self, x):\n",
    "        x = self.features(x)\n",
    "        x = x.view(x.size(0), -1)  # Flatten\n",
    "        x = self.dropout(x)\n",
    "        x = self.fc(x)\n",
    "        return x\n",
    "\n",
    "# Create a new model instance with dropout\n",
    "model_with_dropout = ResNetWithDropout(model, num_ftrs, num_classes)\n",
    "\n",
    "# Move the model to the appropriate device\n",
    "device = torch.device(\"cuda:0\" if torch.cuda.is_available() else \"cpu\")\n",
    "model_with_dropout.to(device)"
   ]
  },
  {
   "cell_type": "code",
   "execution_count": 7,
   "metadata": {},
   "outputs": [
    {
     "name": "stdout",
     "output_type": "stream",
     "text": [
      "Model and dummy input are compatible.\n"
     ]
    }
   ],
   "source": [
    "model.to(device)\n",
    "\n",
    "# Dummy input to check device compatibility\n",
    "dummy_input = torch.zeros(1, 3, 224, 224, device=device)  # Match the input shape and device\n",
    "try:\n",
    "    model(dummy_input)\n",
    "    print(\"Model and dummy input are compatible.\")\n",
    "except RuntimeError as e:\n",
    "    print(f\"Compatibility issue: {e}\")\n"
   ]
  },
  {
   "cell_type": "code",
   "execution_count": 8,
   "metadata": {},
   "outputs": [
    {
     "name": "stdout",
     "output_type": "stream",
     "text": [
      "Epoch 1, Train Loss: 2.03511248650868, Validation Loss: 5.44065047712887, Train Acc: 0.5155974102413184, Val Acc: 0.15257352941176472\n",
      "Epoch 2, Train Loss: 0.8194656199465926, Validation Loss: 2.581577949664172, Train Acc: 0.7027663331371395, Val Acc: 0.31066176470588236\n",
      "Epoch 3, Train Loss: 0.5503075140374348, Validation Loss: 3.1088680885732174, Train Acc: 0.811065332548558, Val Acc: 0.3400735294117647\n"
     ]
    }
   ],
   "source": [
    "criterion = torch.nn.CrossEntropyLoss()\n",
    "optimizer = optim.Adam(model.parameters(), lr=0.001, weight_decay=1e-4)\n",
    "\n",
    "# Define the ReduceLROnPlateau scheduler\n",
    "scheduler = ReduceLROnPlateau(optimizer, 'min', factor=0.1, patience=2)\n",
    "num_epochs = 3\n",
    "\n",
    "# Initialize lists to monitor loss and accuracy\n",
    "train_losses, val_losses = [], []\n",
    "train_accuracies, val_accuracies = [], []\n",
    "\n",
    "for epoch in range(num_epochs):\n",
    "    # Training phase\n",
    "    model.train()\n",
    "    train_loss = 0.0\n",
    "    train_correct = 0\n",
    "    train_total = 0\n",
    "    \n",
    "    for inputs, labels, _ in train_loader:  # Add a placeholder for the original_image_id\n",
    "        inputs, labels = inputs.to(device), labels.to(device)\n",
    "        \n",
    "        optimizer.zero_grad()\n",
    "        outputs = model(inputs)\n",
    "        loss = criterion(outputs, labels)\n",
    "        loss.backward()\n",
    "        optimizer.step()\n",
    "        \n",
    "        train_loss += loss.item() * inputs.size(0)\n",
    "        _, predicted = torch.max(outputs.data, 1)\n",
    "        train_total += labels.size(0)\n",
    "        train_correct += (predicted == labels).sum().item()\n",
    "    \n",
    "    # Compute and print the average loss and accuracy for the training phase\n",
    "    train_losses.append(train_loss / train_total)\n",
    "    train_accuracies.append(train_correct / train_total)\n",
    "    \n",
    "    # Validation phase\n",
    "    model.eval()\n",
    "    val_loss = 0.0\n",
    "    val_correct = 0\n",
    "    val_total = 0\n",
    "    \n",
    "    with torch.no_grad():\n",
    "        for inputs, labels, _ in val_loader:  # Add a placeholder for the original_image_id\n",
    "            inputs, labels = inputs.to(device), labels.to(device)\n",
    "            outputs = model(inputs)\n",
    "            loss = criterion(outputs, labels)\n",
    "            \n",
    "            val_loss += loss.item() * inputs.size(0)\n",
    "            _, predicted = torch.max(outputs.data, 1)\n",
    "            val_total += labels.size(0)\n",
    "            val_correct += (predicted == labels).sum().item()\n",
    "    \n",
    "    # Compute and print the average loss and accuracy for the validation phase\n",
    "    val_losses.append(val_loss / val_total)\n",
    "    val_accuracies.append(val_correct / val_total)\n",
    "    \n",
    "    # Adjust the learning rate based on the validation loss\n",
    "    scheduler.step(val_loss / val_total)\n",
    "    \n",
    "    print(f\"Epoch {epoch+1}, Train Loss: {train_loss / train_total}, Validation Loss: {val_loss / val_total}, Train Acc: {train_correct / train_total}, Val Acc: {val_correct / val_total}\")"
   ]
  },
  {
   "cell_type": "markdown",
   "metadata": {},
   "source": [
    "# Evaluation"
   ]
  },
  {
   "cell_type": "code",
   "execution_count": 9,
   "metadata": {},
   "outputs": [
    {
     "data": {
      "image/png": "[encoded data removed]",
      "text/plain": [
       "<Figure size 1200x500 with 2 Axes>"
      ]
     },
     "metadata": {},
     "output_type": "display_data"
    }
   ],
   "source": [
    "# Plot training and validation loss\n",
    "plt.figure(figsize=(12, 5))\n",
    "plt.subplot(1, 2, 1)\n",
    "plt.plot(train_losses, label='Training Loss')\n",
    "plt.plot(val_losses, label='Validation Loss')\n",
    "plt.xlabel('Epochs')\n",
    "plt.ylabel('Loss')\n",
    "plt.title('Training and Validation Loss')\n",
    "plt.legend()\n",
    "\n",
    "# Plot training and validation accuracy\n",
    "plt.subplot(1, 2, 2)\n",
    "plt.plot(train_accuracies, label='Training Accuracy')\n",
    "plt.plot(val_accuracies, label='Validation Accuracy')\n",
    "plt.xlabel('Epochs')\n",
    "plt.ylabel('Accuracy')\n",
    "plt.title('Training and Validation Accuracy')\n",
    "plt.legend()\n",
    "\n",
    "plt.show()"
   ]
  },
  {
   "cell_type": "code",
   "execution_count": 10,
   "metadata": {},
   "outputs": [],
   "source": [
    "from collections import defaultdict\n",
    "import torch\n",
    "\n",
    "# Dictionary to store predictions\n",
    "tile_predictions = defaultdict(list)\n",
    "\n",
    "model.eval()  # Set model to evaluation mode\n",
    "with torch.no_grad():\n",
    "    for inputs, labels, image_ids in test_loader:  # Adjust as per your DataLoader\n",
    "        inputs = inputs.to(device)\n",
    "        outputs = model(inputs)\n",
    "        _, predicted = torch.max(outputs, 1)\n",
    "        \n",
    "        # Store predictions with their corresponding image IDs\n",
    "        for image_id, pred in zip(image_ids, predicted.cpu().numpy()):\n",
    "            tile_predictions[image_id].append(pred)"
   ]
  },
  {
   "cell_type": "markdown",
   "metadata": {},
   "source": [
    "### Classification results for predictions on 549 tile images from 5 TMA"
   ]
  },
  {
   "cell_type": "code",
   "execution_count": 11,
   "metadata": {},
   "outputs": [
    {
     "name": "stdout",
     "output_type": "stream",
     "text": [
      "              precision    recall  f1-score   support\n",
      "\n",
      "        HGSC       0.41      0.93      0.57       100\n",
      "        LGSC       0.15      0.05      0.07       104\n",
      "          EC       0.42      0.12      0.18       161\n",
      "          CC       0.62      0.89      0.73        93\n",
      "          MC       0.51      0.62      0.56        91\n",
      "\n",
      "    accuracy                           0.47       549\n",
      "   macro avg       0.42      0.52      0.42       549\n",
      "weighted avg       0.42      0.47      0.39       549\n",
      "\n"
     ]
    }
   ],
   "source": [
    "from sklearn.metrics import classification_report\n",
    "\n",
    "# Lists to store all predictions and true labels\n",
    "y_pred_tiles = []\n",
    "y_true_tiles = []\n",
    "\n",
    "model.eval()  # Set model to evaluation mode\n",
    "with torch.no_grad():\n",
    "    for inputs, labels, image_ids in test_loader:  # Adjust as per your DataLoader\n",
    "        inputs = inputs.to(device)\n",
    "        labels = labels.to(device)\n",
    "        outputs = model(inputs)\n",
    "        _, predicted = torch.max(outputs, 1)\n",
    "        \n",
    "        # Store predictions and true labels\n",
    "        y_pred_tiles.extend(predicted.cpu().numpy())\n",
    "        y_true_tiles.extend(labels.cpu().numpy())\n",
    "\n",
    "# Generate the classification report\n",
    "report = classification_report(y_true_tiles, y_pred_tiles, target_names=list(label_map.keys()))\n",
    "\n",
    "print(report)"
   ]
  },
  {
   "cell_type": "markdown",
   "metadata": {},
   "source": [
    "### Classification results on 5 TMA images using majority voting from 549 tiles"
   ]
  },
  {
   "cell_type": "code",
   "execution_count": 12,
   "metadata": {},
   "outputs": [],
   "source": [
    "image_predictions = {}\n",
    "for image_id, preds in tile_predictions.items():\n",
    "    # Apply majority voting\n",
    "    most_common_pred = max(set(preds), key=preds.count)\n",
    "    image_predictions[image_id] = most_common_pred"
   ]
  },
  {
   "cell_type": "code",
   "execution_count": 13,
   "metadata": {},
   "outputs": [
    {
     "name": "stdout",
     "output_type": "stream",
     "text": [
      "  Image ID Predicted Label Real Label\n",
      "0    29084              MC       LGSC\n",
      "1    35565              MC         MC\n",
      "2    41368            HGSC         EC\n",
      "3    41586              CC         CC\n",
      "4    50932            HGSC       HGSC\n",
      "\n",
      "Overall Accuracy: 60.00%\n"
     ]
    }
   ],
   "source": [
    "inverse_label_map = {v: k for k, v in label_map.items()}\n",
    "\n",
    "df = pd.read_csv('/root/ubc/train.csv')\n",
    "\n",
    "# Extract the 'original_image_id' without '.png' for matching\n",
    "df['original_image_id'] = df['image_id'].astype(str).apply(lambda x: x.split('.')[0])\n",
    "\n",
    "# Create a dictionary mapping from original_image_id to real label\n",
    "real_labels_map = pd.Series(df.label.values, index=df.original_image_id).to_dict()\n",
    "\n",
    "correct_predictions=0\n",
    "total_images = len(image_predictions)\n",
    "\n",
    "# Initialize a list to store row data\n",
    "data = []\n",
    "\n",
    "for image_id, pred in image_predictions.items():\n",
    "    real_label = real_labels_map.get(image_id)\n",
    "    predicted_label = inverse_label_map[pred]\n",
    "    # Append a dictionary for each row of data\n",
    "    data.append({\n",
    "        'Image ID': image_id,\n",
    "        'Predicted Label': predicted_label,\n",
    "        'Real Label': real_label\n",
    "    })\n",
    "    \n",
    "    if real_label == predicted_label:\n",
    "        correct_predictions += 1\n",
    "\n",
    "# Convert the list of dictionaries into a DataFrame\n",
    "results_df = pd.DataFrame(data)\n",
    "\n",
    "# Print the DataFrame\n",
    "print(results_df)\n",
    "\n",
    "# Calculate and print accuracy\n",
    "accuracy = correct_predictions / total_images\n",
    "print(f\"\\nOverall Accuracy: {accuracy * 100:.2f}%\")"
   ]
  },
  {
   "cell_type": "code",
   "execution_count": 15,
   "metadata": {},
   "outputs": [
    {
     "name": "stdout",
     "output_type": "stream",
     "text": [
      "              precision    recall  f1-score   support\n",
      "\n",
      "        HGSC       0.50      1.00      0.67         1\n",
      "        LGSC       0.00      0.00      0.00         1\n",
      "          EC       0.00      0.00      0.00         1\n",
      "          CC       1.00      1.00      1.00         1\n",
      "          MC       0.50      1.00      0.67         1\n",
      "\n",
      "    accuracy                           0.60         5\n",
      "   macro avg       0.40      0.60      0.47         5\n",
      "weighted avg       0.40      0.60      0.47         5\n",
      "\n"
     ]
    }
   ],
   "source": [
    "from sklearn.metrics import classification_report\n",
    "\n",
    "# Given data\n",
    "y_true = ['LGSC', 'MC', 'EC', 'CC', 'HGSC']  # Actual labels\n",
    "y_pred = ['MC', 'MC', 'HGSC', 'CC', 'HGSC']  # Predicted labels\n",
    "\n",
    "# Generate the classification report\n",
    "report = classification_report(y_true, y_pred, labels=['HGSC', 'LGSC', 'EC', 'CC', 'MC'], zero_division=0)\n",
    "\n",
    "print(report)"
   ]
  }
 ],
 "metadata": {
  "kernelspec": {
   "display_name": "Baku",
   "language": "python",
   "name": "baku"
  },
  "language_info": {
   "codemirror_mode": {
    "name": "ipython",
    "version": 3
   },
   "file_extension": ".py",
   "mimetype": "text/x-python",
   "name": "python",
   "nbconvert_exporter": "python",
   "pygments_lexer": "ipython3",
   "version": "3.8.13"
  }
 },
 "nbformat": 4,
 "nbformat_minor": 2
}
